{
 "cells": [
  {
   "cell_type": "code",
   "execution_count": 25,
   "id": "2bdf26a1",
   "metadata": {},
   "outputs": [
    {
     "name": "stdout",
     "output_type": "stream",
     "text": [
      "Is your birthday in Set1?\n",
      " 1  3  5  7\n",
      " 9 11 13 16\n",
      "17 19 21 23\n",
      "25 27 29 31\\Enter 0 for No and 1 for Yes: 1\n",
      "Is your birthday in Set2?\n",
      " 2  3  6  7\n",
      "10 11 14 15\n",
      "18 19 22 23\n",
      "26 27 30 31\\Enter 0 for No and 1 for Yes: 0\n",
      "Is your birthday in Set3?\n",
      " 4  5  6  7\n",
      "12 13 14 15\n",
      "20 21 22 23\n",
      "28 29 30 31\\Enter 0 for No and 1 for Yes:0\n",
      "Is your birthday in Set4?\n",
      " 8  9 10 11\n",
      "12 13 14 15\n",
      "24 25 26 27\n",
      "28 29 30 31\\Enter 0 for No and 1 for Yes: 1\n",
      "Is your birthday in Set5?\n",
      "16 17 18 19\n",
      "20 21 22 23\n",
      "24 25 26 27\n",
      "28 29 30 31\\Enter 0 for No and 1 for Yes: 1\n",
      "\n",
      "Your birthday is 25!\n"
     ]
    }
   ],
   "source": [
    "day = 0\n",
    "\n",
    "question1 = \"Is your birthday in Set1?\\n\" + \\\n",
    "    \" 1  3  5  7\\n\" + \\\n",
    "    \" 9 11 13 16\\n\" + \\\n",
    "    \"17 19 21 23\\n\" + \\\n",
    "    \"25 27 29 31\" + \\\n",
    "    \"\\Enter 0 for No and 1 for Yes: \"\n",
    "\n",
    "answer = eval(input(question1))\n",
    "if answer==1:\n",
    "    day = day + 1\n",
    "        \n",
    "question2 = \"Is your birthday in Set2?\\n\" + \\\n",
    "    \" 2  3  6  7\\n\" + \\\n",
    "    \"10 11 14 15\\n\" + \\\n",
    "    \"18 19 22 23\\n\" + \\\n",
    "    \"26 27 30 31\" + \\\n",
    "    \"\\Enter 0 for No and 1 for Yes: \"  \n",
    "\n",
    "answer = eval(input(question2))\n",
    "if answer==1:\n",
    "    day = day + 2\n",
    "        \n",
    "question3 = \"Is your birthday in Set3?\\n\" + \\\n",
    "    \" 4  5  6  7\\n\" + \\\n",
    "    \"12 13 14 15\\n\" + \\\n",
    "    \"20 21 22 23\\n\" + \\\n",
    "    \"28 29 30 31\" + \\\n",
    "    \"\\Enter 0 for No and 1 for Yes:\" \n",
    "\n",
    "answer = eval(input(question3))\n",
    "if answer==1:\n",
    "    day = day + 4\n",
    "        \n",
    "question4 = \"Is your birthday in Set4?\\n\" + \\\n",
    "    \" 8  9 10 11\\n\" + \\\n",
    "    \"12 13 14 15\\n\" + \\\n",
    "    \"24 25 26 27\\n\" + \\\n",
    "    \"28 29 30 31\" + \\\n",
    "    \"\\Enter 0 for No and 1 for Yes: \" \n",
    "\n",
    "answer = eval(input(question4))\n",
    "if answer==1:\n",
    "    day = day + 8\n",
    "        \n",
    "question5 = \"Is your birthday in Set5?\\n\" + \\\n",
    "    \"16 17 18 19\\n\" + \\\n",
    "    \"20 21 22 23\\n\" + \\\n",
    "    \"24 25 26 27\\n\" + \\\n",
    "    \"28 29 30 31\" + \\\n",
    "    \"\\Enter 0 for No and 1 for Yes: \" \n",
    "\n",
    "answer = eval(input(question5))\n",
    "if answer==1:\n",
    "    day = day + 16\n",
    "    \n",
    "print(\"\\nYour birthday is \"+ str(day) + \"!\")"
   ]
  },
  {
   "cell_type": "code",
   "execution_count": 12,
   "id": "b7525925",
   "metadata": {},
   "outputs": [
    {
     "name": "stdout",
     "output_type": "stream",
     "text": [
      "7 9\n",
      "9 7\n"
     ]
    }
   ],
   "source": [
    "a = 7\n",
    "b = 9\n",
    "print(a,b)\n",
    "\n",
    "a,b = b,a\n",
    "\n",
    "print(a,b)"
   ]
  },
  {
   "cell_type": "code",
   "execution_count": 20,
   "id": "8f35cb74",
   "metadata": {},
   "outputs": [
    {
     "name": "stdout",
     "output_type": "stream",
     "text": [
      "8 - 1 =?\n",
      "What is number1 - number2 7\n",
      "Your answer is correct\n"
     ]
    }
   ],
   "source": [
    "import random\n",
    "\n",
    "number1 = random.randint(0,9)\n",
    "number2 = random.randint(0,9)\n",
    "\n",
    "print(number1, \"-\", number2, \"=?\" )\n",
    "\n",
    "if number1 < number2:\n",
    "    number1,number2 = number2,number1\n",
    "    \n",
    "answer = eval(input(\"What is number1 - number2 \"))\n",
    "              \n",
    "if number1 - number2 == answer:\n",
    "    print(\"Your answer is correct\")\n",
    "else:\n",
    "    print(\"Your answer is wrong\\n\", number1, \"-\", number2, \"is\", number1-number2)"
   ]
  },
  {
   "cell_type": "code",
   "execution_count": 24,
   "id": "5defdb84",
   "metadata": {},
   "outputs": [
    {
     "name": "stdout",
     "output_type": "stream",
     "text": [
      "Birth Year:2023\n",
      "Rabbit\n"
     ]
    }
   ],
   "source": [
    "year = eval(input(\"Birth Year:\"))\n",
    "\n",
    "if year % 12 == 0:\n",
    "    print(\"Monkey\")\n",
    "elif year % 12 == 1:\n",
    "    print(\"Rooster\")\n",
    "elif year % 12 == 2:\n",
    "    print(\"Dog\")\n",
    "elif year % 12 == 3:\n",
    "    print(\"Pig\")\n",
    "elif year % 12 == 4:\n",
    "    print(\"Rat\")\n",
    "elif year % 12 == 5:\n",
    "    print(\"Ox\")\n",
    "elif year % 12 == 6:\n",
    "    print(\"Tiger\")\n",
    "elif year % 12 == 7:\n",
    "    print(\"Rabbit\")\n",
    "elif year % 12 == 8:\n",
    "    print(\"Dragon\")\n",
    "elif year % 12 == 9:\n",
    "    print(\"Snake\")\n",
    "elif year % 12 == 10:\n",
    "    print(\"Horse\")\n",
    "else:\n",
    "    print(\"Sheep\")"
   ]
  },
  {
   "cell_type": "code",
   "execution_count": 32,
   "id": "cd3ec19e",
   "metadata": {},
   "outputs": [
    {
     "name": "stdout",
     "output_type": "stream",
     "text": [
      "[-45, 7, 0, 72, 153]\n",
      "-45 7 72 153\n",
      "153 72\n"
     ]
    }
   ],
   "source": [
    "#lists in Python\n",
    "c = [-45, 7, 0 ,72, 153]\n",
    "\n",
    "print(c)\n",
    "\n",
    "print(c[0], c[1], c[3], c[4])\n",
    "print(c[-1], c[-2])"
   ]
  },
  {
   "cell_type": "code",
   "execution_count": 34,
   "id": "504fa6a2",
   "metadata": {},
   "outputs": [
    {
     "name": "stdout",
     "output_type": "stream",
     "text": [
      "['Aysun', 3.57, 12, -89]\n",
      "There are 4  elements in the list d\n"
     ]
    }
   ],
   "source": [
    "d = [\"Aysun\", 3.57, 12, -89]\n",
    "\n",
    "print(d)\n",
    "print(\"There are\", len(d), \" elements in the list d\")"
   ]
  },
  {
   "cell_type": "code",
   "execution_count": 35,
   "id": "be4dd600",
   "metadata": {},
   "outputs": [
    {
     "name": "stdout",
     "output_type": "stream",
     "text": [
      "[-45, 17, 0, 72, 153]\n"
     ]
    }
   ],
   "source": [
    "#lists are mutable objects: their elemnts can be modified\n",
    "\n",
    "c[1]=17\n",
    "print(c)"
   ]
  },
  {
   "cell_type": "code",
   "execution_count": 37,
   "id": "7ec080db",
   "metadata": {},
   "outputs": [
    {
     "name": "stdout",
     "output_type": "stream",
     "text": [
      "hello\n",
      "h e l l o\n",
      "5\n"
     ]
    }
   ],
   "source": [
    "#string are immutable\n",
    "\n",
    "s = \"hello\"\n",
    "print(s)\n",
    "print(s[0], s[1], s[2], s[3], s[4])\n",
    "print(len(s))"
   ]
  },
  {
   "cell_type": "code",
   "execution_count": 42,
   "id": "5522236d",
   "metadata": {},
   "outputs": [
    {
     "name": "stdout",
     "output_type": "stream",
     "text": [
      "[10, 20, 30, 40, 50]\n",
      "0: 10\n",
      "1: 20\n",
      "2: 30\n",
      "3: 40\n",
      "4: 50\n"
     ]
    }
   ],
   "source": [
    "list1 = [10, 20, 30]\n",
    "list2 = [40, 50]\n",
    "\n",
    "concataneted_list = list1 + list2\n",
    "print(concataneted_list)\n",
    "\n",
    "for i in range(len(concataneted_list)):\n",
    "    print(f'{i}: {concataneted_list[i]}')"
   ]
  },
  {
   "cell_type": "code",
   "execution_count": 41,
   "id": "8f941c0b",
   "metadata": {},
   "outputs": [
    {
     "name": "stdout",
     "output_type": "stream",
     "text": [
      "<class 'str'>\n",
      " 5 is my variable\n"
     ]
    }
   ],
   "source": [
    "list(range(8))\n",
    "x= 5\n",
    "print(type(F'{x} is my variable'))\n",
    "print(F'{x} is my variable')"
   ]
  },
  {
   "cell_type": "code",
   "execution_count": 43,
   "id": "a8993b46",
   "metadata": {},
   "outputs": [
    {
     "name": "stdout",
     "output_type": "stream",
     "text": [
      "(30, 40, 50)\n",
      "('Aysun', 4.15, -2, 25)\n",
      "3\n",
      "4\n",
      "Aysun 4.15 -2 25\n"
     ]
    }
   ],
   "source": [
    "#Tuples \n",
    "\n",
    "example_int_tuple = (30,40,50)\n",
    "example_mix_tuple = (\"Aysun\", 4.15, -2, 25)\n",
    "\n",
    "print(example_int_tuple)\n",
    "print(example_mix_tuple)\n",
    "\n",
    "print(len(example_int_tuple))\n",
    "print(len(example_mix_tuple))\n",
    "\n",
    "print(example_mix_tuple[0], example_mix_tuple[1], example_mix_tuple[2], example_mix_tuple[3])"
   ]
  },
  {
   "cell_type": "code",
   "execution_count": 44,
   "id": "25cddf3c",
   "metadata": {},
   "outputs": [
    {
     "ename": "TypeError",
     "evalue": "'tuple' object does not support item assignment",
     "output_type": "error",
     "traceback": [
      "\u001b[1;31m---------------------------------------------------------------------------\u001b[0m",
      "\u001b[1;31mTypeError\u001b[0m                                 Traceback (most recent call last)",
      "\u001b[1;32m~\\AppData\\Local\\Temp\\ipykernel_10636\\3792992467.py\u001b[0m in \u001b[0;36m<module>\u001b[1;34m\u001b[0m\n\u001b[0;32m      1\u001b[0m \u001b[1;31m#Tuples are immutable\u001b[0m\u001b[1;33m\u001b[0m\u001b[1;33m\u001b[0m\u001b[0m\n\u001b[0;32m      2\u001b[0m \u001b[1;33m\u001b[0m\u001b[0m\n\u001b[1;32m----> 3\u001b[1;33m \u001b[0mexample_mix_tuple\u001b[0m\u001b[1;33m[\u001b[0m\u001b[1;36m0\u001b[0m\u001b[1;33m]\u001b[0m \u001b[1;33m=\u001b[0m \u001b[1;34m\"Ayse\"\u001b[0m\u001b[1;33m\u001b[0m\u001b[1;33m\u001b[0m\u001b[0m\n\u001b[0m",
      "\u001b[1;31mTypeError\u001b[0m: 'tuple' object does not support item assignment"
     ]
    }
   ],
   "source": [
    "#Tuples are immutable\n",
    "\n",
    "example_mix_tuple[0] = \"Ayse\""
   ]
  },
  {
   "cell_type": "code",
   "execution_count": 45,
   "id": "f6dface7",
   "metadata": {},
   "outputs": [
    {
     "data": {
      "text/plain": [
       "33361"
      ]
     },
     "execution_count": 45,
     "metadata": {},
     "output_type": "execute_result"
    }
   ],
   "source": [
    "time_tuple = (9,16,1)\n",
    "\n",
    "time_tuple[0]*3600 + time_tuple[1] * 60 + time_tuple[2]"
   ]
  },
  {
   "cell_type": "code",
   "execution_count": 46,
   "id": "8acaa42f",
   "metadata": {},
   "outputs": [
    {
     "data": {
      "text/plain": [
       "(10, 20, 1, 40, 50)"
      ]
     },
     "execution_count": 46,
     "metadata": {},
     "output_type": "execute_result"
    }
   ],
   "source": [
    "tuple1 = (10,20,1)\n",
    "tuple2 = (40,50)\n",
    "\n",
    "tuple1 + tuple2"
   ]
  },
  {
   "cell_type": "code",
   "execution_count": 47,
   "id": "66dec841",
   "metadata": {},
   "outputs": [
    {
     "name": "stdout",
     "output_type": "stream",
     "text": [
      "Aysun Guran [100, 100, 100]\n"
     ]
    }
   ],
   "source": [
    "#Unpacking\n",
    "\n",
    "student_tuple = ('Aysun', \"Guran\", [100,100,100])\n",
    "name, surname, grades = student_tuple\n",
    "\n",
    "print(name, surname, grades)"
   ]
  },
  {
   "cell_type": "code",
   "execution_count": null,
   "id": "5391d120",
   "metadata": {},
   "outputs": [],
   "source": []
  }
 ],
 "metadata": {
  "kernelspec": {
   "display_name": "Python 3 (ipykernel)",
   "language": "python",
   "name": "python3"
  },
  "language_info": {
   "codemirror_mode": {
    "name": "ipython",
    "version": 3
   },
   "file_extension": ".py",
   "mimetype": "text/x-python",
   "name": "python",
   "nbconvert_exporter": "python",
   "pygments_lexer": "ipython3",
   "version": "3.9.13"
  }
 },
 "nbformat": 4,
 "nbformat_minor": 5
}
