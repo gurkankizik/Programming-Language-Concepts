{
 "cells": [
  {
   "cell_type": "code",
   "execution_count": null,
   "id": "ffd91e32",
   "metadata": {},
   "outputs": [],
   "source": [
    "import math\n",
    "print(\"sqrt(4.0)= \", math.sqrt(4.0))\n",
    "print(\"exp(1.0)= \", math.exp(1))\n",
    "print(\"log10(10)= \", math.log(10,10))\n",
    "print(\"log(3.78)= \", math.log(math.e))"
   ]
  },
  {
   "cell_type": "code",
   "execution_count": null,
   "id": "f1f3e053",
   "metadata": {},
   "outputs": [],
   "source": [
    "print(\"sin(PI/2)= \", math.sin(math.pi))\n",
    "print(\"degrees(1.57)= \", math.degrees(1.57))\n",
    "print(\"radians(90)=\" , math.radians(90))"
   ]
  },
  {
   "cell_type": "code",
   "execution_count": 16,
   "id": "4986b038",
   "metadata": {},
   "outputs": [
    {
     "name": "stdout",
     "output_type": "stream",
     "text": [
      "Enter six coordinates of three points seperated by comas like x1, y1, x2, y2, x3, y3= 1,1,400,400,600,1\n",
      "The three angles are  45.0 71.62 63.37\n"
     ]
    }
   ],
   "source": [
    "import math\n",
    "\n",
    "x1, y1, x2, y2, x3, y3 = eval(input(\"Enter six coordinates of three points seperated by comas like x1, y1, x2, y2, x3, y3= \"))\n",
    "\n",
    "a = math.sqrt((x2-x3)*(x2-x3)+(y2-y3)*(y2-y3))\n",
    "b = math.sqrt((x1-x3)*(x1-x3)+(y1-y3)*(y1-y3))\n",
    "c = math.sqrt((x1-x2)*(x1-x2)+(y1-y2)*(y1-y2))\n",
    "\n",
    "A = math.degrees(math.acos((c*c+b*b-a*a)/(2*b*c)))\n",
    "B = math.degrees(math.acos((math.pow(a,2)+math.pow(c,2)-math.pow(b,2))/(2*a*c)))\n",
    "C = math.degrees(math.acos((math.pow(a,2)+math.pow(b,2)-math.pow(c,2))/(2*a*b)))\n",
    "\n",
    "print(\"The three angles are \", (int) (A*100)/100.0, (int) (B*100)/100.0, (int) (C*100)/100.0)\n"
   ]
  },
  {
   "cell_type": "code",
   "execution_count": 17,
   "id": "0d197af5",
   "metadata": {},
   "outputs": [
    {
     "name": "stdout",
     "output_type": "stream",
     "text": [
      "Hello\n",
      "Hello\n",
      "Hello\n"
     ]
    }
   ],
   "source": [
    "for i in range(3):\n",
    "    print(\"Hello\")"
   ]
  },
  {
   "cell_type": "code",
   "execution_count": 18,
   "id": "7bd32926",
   "metadata": {},
   "outputs": [
    {
     "data": {
      "text/plain": [
       "[0, 1, 2]"
      ]
     },
     "execution_count": 18,
     "metadata": {},
     "output_type": "execute_result"
    }
   ],
   "source": [
    "list(range(3))"
   ]
  },
  {
   "cell_type": "code",
   "execution_count": 19,
   "id": "5dbf5046",
   "metadata": {},
   "outputs": [
    {
     "name": "stdout",
     "output_type": "stream",
     "text": [
      "Hello Hello Hello "
     ]
    }
   ],
   "source": [
    "for i in range(3):\n",
    "    print(\"Hello\", end= \" \")"
   ]
  },
  {
   "cell_type": "code",
   "execution_count": 25,
   "id": "5bd041da",
   "metadata": {},
   "outputs": [
    {
     "name": "stdout",
     "output_type": "stream",
     "text": [
      "0\n",
      "1\n",
      "2\n",
      "3\n",
      "4\n",
      "5\n",
      "6\n",
      "7\n",
      "8\n",
      "9\n"
     ]
    }
   ],
   "source": [
    "for i in range(10):\n",
    "    print(i)"
   ]
  },
  {
   "cell_type": "code",
   "execution_count": 28,
   "id": "7c689e82",
   "metadata": {},
   "outputs": [
    {
     "name": "stdout",
     "output_type": "stream",
     "text": [
      "A number= 10\n",
      "The square of the number=  100.0\n",
      "A number= 20\n",
      "The square of the number=  400.0\n",
      "A number= 30\n",
      "The square of the number=  900.0\n"
     ]
    }
   ],
   "source": [
    "for i in range(3):\n",
    "    number=int(input(\"A number= \"))\n",
    "    print(\"The square of the number= \", math.pow(number,2))"
   ]
  },
  {
   "cell_type": "code",
   "execution_count": 29,
   "id": "022d4d8a",
   "metadata": {},
   "outputs": [
    {
     "data": {
      "text/plain": [
       "[3, 4, 5, 6, 7, 8, 9, 10, 11, 12, 13, 14]"
      ]
     },
     "execution_count": 29,
     "metadata": {},
     "output_type": "execute_result"
    }
   ],
   "source": [
    "list(range(3,15))"
   ]
  },
  {
   "cell_type": "code",
   "execution_count": 30,
   "id": "676dcc8e",
   "metadata": {},
   "outputs": [
    {
     "data": {
      "text/plain": [
       "[3, 8, 13]"
      ]
     },
     "execution_count": 30,
     "metadata": {},
     "output_type": "execute_result"
    }
   ],
   "source": [
    "list(range(3,15,5))"
   ]
  },
  {
   "cell_type": "code",
   "execution_count": 35,
   "id": "afe9c4fa",
   "metadata": {},
   "outputs": [
    {
     "name": "stdout",
     "output_type": "stream",
     "text": [
      "20 22 24 26 28 30 32 34 36 38 "
     ]
    }
   ],
   "source": [
    "for j in range(20, 40, 2):\n",
    "    print(j, end= \" \")"
   ]
  },
  {
   "cell_type": "code",
   "execution_count": 36,
   "id": "35ba7ea0",
   "metadata": {},
   "outputs": [
    {
     "name": "stdout",
     "output_type": "stream",
     "text": [
      "40 38 36 34 32 30 28 26 24 22 "
     ]
    }
   ],
   "source": [
    "for j in range(40, 20, -2):\n",
    "    print(j, end= \" \")"
   ]
  },
  {
   "cell_type": "code",
   "execution_count": 38,
   "id": "b558bae9",
   "metadata": {},
   "outputs": [
    {
     "name": "stdout",
     "output_type": "stream",
     "text": [
      "Average of the class is,  68.33\n"
     ]
    }
   ],
   "source": [
    "total = 0\n",
    "for grade in [50, 45, 58, 60, 89, 78, 90, 45, 100]:\n",
    "    total = total + grade\n",
    "    \n",
    "average = total / 9.0\n",
    "\n",
    "print(\"Average of the class is, \", (int)(average*100)/100.0)"
   ]
  },
  {
   "cell_type": "code",
   "execution_count": 40,
   "id": "56f51620",
   "metadata": {},
   "outputs": [
    {
     "name": "stdout",
     "output_type": "stream",
     "text": [
      "P  r  o  g  r  a  m  m  i  n  g     L  a  n  g  u  a  g  e  s     C  o  n  c  e  p  t  s  "
     ]
    }
   ],
   "source": [
    "for character in \"Programming Languages Concepts\":\n",
    "    print(character, end=\"  \")"
   ]
  },
  {
   "cell_type": "code",
   "execution_count": 43,
   "id": "b3cbf86c",
   "metadata": {},
   "outputs": [
    {
     "name": "stdout",
     "output_type": "stream",
     "text": [
      "???"
     ]
    }
   ],
   "source": [
    "for i in range(3):\n",
    "    print(\"?\", end=\"\")"
   ]
  },
  {
   "cell_type": "code",
   "execution_count": 44,
   "id": "fe92fedd",
   "metadata": {},
   "outputs": [
    {
     "name": "stdout",
     "output_type": "stream",
     "text": [
      "???\n"
     ]
    }
   ],
   "source": [
    "print(\"?\"*3)"
   ]
  },
  {
   "cell_type": "code",
   "execution_count": 46,
   "id": "07454884",
   "metadata": {},
   "outputs": [
    {
     "name": "stdout",
     "output_type": "stream",
     "text": [
      "Hello Hello Hello Hello Hello \n"
     ]
    }
   ],
   "source": [
    "print(\"Hello \"*5)"
   ]
  },
  {
   "cell_type": "code",
   "execution_count": 48,
   "id": "786c92e4",
   "metadata": {},
   "outputs": [
    {
     "name": "stdout",
     "output_type": "stream",
     "text": [
      "*\n",
      "**\n",
      "***\n",
      "****\n"
     ]
    }
   ],
   "source": [
    "for i in range(4):\n",
    "    print(\"*\"*(i+1))"
   ]
  },
  {
   "cell_type": "code",
   "execution_count": 54,
   "id": "4a55a5eb",
   "metadata": {},
   "outputs": [
    {
     "name": "stdout",
     "output_type": "stream",
     "text": [
      "<class 'str'>\n",
      "7 times 5 is 35\n",
      "7 times 5 is 35\n"
     ]
    }
   ],
   "source": [
    "number1 = 7\n",
    "number2 = 5\n",
    "\n",
    "print(type(f'{number1} times {number2} is {number1*number2}'))\n",
    "my_f_string = f'{number1} times {number2} is {number1*number2}'\n",
    "print(my_f_string)\n",
    "print(f'{number1} times {number2} is {number1*number2}')"
   ]
  },
  {
   "cell_type": "code",
   "execution_count": 57,
   "id": "fe8a0c19",
   "metadata": {},
   "outputs": [
    {
     "name": "stdout",
     "output_type": "stream",
     "text": [
      " 10.22\n"
     ]
    }
   ],
   "source": [
    "x = 10.2187\n",
    "print(f'{x: .2f}')"
   ]
  },
  {
   "cell_type": "code",
   "execution_count": 59,
   "id": "b51ca55e",
   "metadata": {},
   "outputs": [
    {
     "name": "stdout",
     "output_type": "stream",
     "text": [
      "          10.22\n"
     ]
    }
   ],
   "source": [
    "x = 10.2187\n",
    "print(f'{x: 15.2f}')"
   ]
  },
  {
   "cell_type": "code",
   "execution_count": 61,
   "id": "f912859e",
   "metadata": {},
   "outputs": [
    {
     "name": "stdout",
     "output_type": "stream",
     "text": [
      "10.22\n"
     ]
    }
   ],
   "source": [
    "print(format(10.2187, \".2f\"))"
   ]
  },
  {
   "cell_type": "code",
   "execution_count": 63,
   "id": "0b9da2c1",
   "metadata": {},
   "outputs": [
    {
     "name": "stdout",
     "output_type": "stream",
     "text": [
      "your number is = 10.22\n"
     ]
    }
   ],
   "source": [
    "x = 10.2187\n",
    "print('your number is = %.2f' % x)"
   ]
  },
  {
   "cell_type": "code",
   "execution_count": 68,
   "id": "098f792f",
   "metadata": {},
   "outputs": [
    {
     "name": "stdout",
     "output_type": "stream",
     "text": [
      "1 2 3 4 6 7 8 9 10 "
     ]
    }
   ],
   "source": [
    "for number in range(1,11):\n",
    "    if number == 5:\n",
    "        continue\n",
    "    print(number, end=\" \")\n",
    "    "
   ]
  },
  {
   "cell_type": "code",
   "execution_count": 69,
   "id": "6706e521",
   "metadata": {},
   "outputs": [
    {
     "name": "stdout",
     "output_type": "stream",
     "text": [
      "1 2 3 4 "
     ]
    }
   ],
   "source": [
    "for number in range(1,11):\n",
    "    if number == 5:\n",
    "        break\n",
    "    print(number, end=\" \")"
   ]
  },
  {
   "cell_type": "code",
   "execution_count": 73,
   "id": "7ea21e77",
   "metadata": {},
   "outputs": [
    {
     "name": "stdout",
     "output_type": "stream",
     "text": [
      "Hello\n"
     ]
    }
   ],
   "source": [
    "age = 70\n",
    "gender = \"Female\"\n",
    "\n",
    "if gender==\"Female\" and age>=65:\n",
    "    print(\"Hello\")"
   ]
  },
  {
   "cell_type": "code",
   "execution_count": 76,
   "id": "c2fc0e67",
   "metadata": {},
   "outputs": [
    {
     "name": "stdout",
     "output_type": "stream",
     "text": [
      "Hello\n"
     ]
    }
   ],
   "source": [
    "age = 70\n",
    "gender = \"Female\"\n",
    "\n",
    "if gender==\"Female\" or age>=65:\n",
    "    print(\"Hello\")"
   ]
  },
  {
   "cell_type": "code",
   "execution_count": 77,
   "id": "5f6ba6af",
   "metadata": {},
   "outputs": [
    {
     "name": "stdout",
     "output_type": "stream",
     "text": [
      "Hello\n"
     ]
    }
   ],
   "source": [
    "grade = 70\n",
    "if not grade == 1:\n",
    "    print(\"Hello\")"
   ]
  },
  {
   "cell_type": "code",
   "execution_count": 81,
   "id": "24f5406c",
   "metadata": {},
   "outputs": [
    {
     "name": "stdout",
     "output_type": "stream",
     "text": [
      "24\n",
      "30\n",
      "30\n"
     ]
    }
   ],
   "source": [
    "import statistics\n",
    "\n",
    "grades = [10,20,30,30,30]\n",
    "\n",
    "print(statistics.mean(grades))\n",
    "print(statistics.median(grades))\n",
    "print(statistics.mode(grades))"
   ]
  },
  {
   "cell_type": "code",
   "execution_count": 85,
   "id": "a4a811cd",
   "metadata": {},
   "outputs": [
    {
     "data": {
      "text/plain": [
       "100"
      ]
     },
     "execution_count": 85,
     "metadata": {},
     "output_type": "execute_result"
    }
   ],
   "source": [
    "max(30,45,78,89,100)"
   ]
  },
  {
   "cell_type": "code",
   "execution_count": 84,
   "id": "cab70395",
   "metadata": {},
   "outputs": [
    {
     "data": {
      "text/plain": [
       "30"
      ]
     },
     "execution_count": 84,
     "metadata": {},
     "output_type": "execute_result"
    }
   ],
   "source": [
    "min(30,45,78,89,100)"
   ]
  },
  {
   "cell_type": "code",
   "execution_count": 86,
   "id": "387a95cd",
   "metadata": {},
   "outputs": [
    {
     "name": "stdout",
     "output_type": "stream",
     "text": [
      "[-79, -2, 17, 45]\n"
     ]
    }
   ],
   "source": [
    "print(sorted([45,17,-2,-79]))"
   ]
  },
  {
   "cell_type": "code",
   "execution_count": 88,
   "id": "7bec5b77",
   "metadata": {},
   "outputs": [
    {
     "name": "stdout",
     "output_type": "stream",
     "text": [
      "[45, 17, -2, -79]\n"
     ]
    }
   ],
   "source": [
    "print(sorted([45,17,-2,-79], reverse = True))"
   ]
  },
  {
   "cell_type": "code",
   "execution_count": 91,
   "id": "0c9e7cf5",
   "metadata": {},
   "outputs": [
    {
     "name": "stdout",
     "output_type": "stream",
     "text": [
      "512.0\n"
     ]
    }
   ],
   "source": [
    "import math\n",
    "print(math.pow(8,3))"
   ]
  },
  {
   "cell_type": "code",
   "execution_count": 93,
   "id": "451aad2c",
   "metadata": {},
   "outputs": [
    {
     "name": "stdout",
     "output_type": "stream",
     "text": [
      "512.0\n"
     ]
    }
   ],
   "source": [
    "from math import pow\n",
    "print(pow(8,3))"
   ]
  },
  {
   "cell_type": "code",
   "execution_count": 111,
   "id": "fecc72b7",
   "metadata": {},
   "outputs": [
    {
     "name": "stdout",
     "output_type": "stream",
     "text": [
      "Please enter a number:13\n",
      "13 is a prime number\n"
     ]
    }
   ],
   "source": [
    "num = int(input(\"Please enter a number:\"))\n",
    "if num > 1:\n",
    "    for i in range(2, int(num/2)+1):\n",
    "        if (num % i) == 0:\n",
    "            print(num, \"is not a prime number\")\n",
    "            break\n",
    "    else:\n",
    "        print(num, \"is a prime number\")\n",
    "else:\n",
    "    print(num, \"is not a prime number\")"
   ]
  },
  {
   "cell_type": "code",
   "execution_count": 1,
   "id": "36d8f66b",
   "metadata": {},
   "outputs": [
    {
     "name": "stdout",
     "output_type": "stream",
     "text": [
      "0 1 2 3 4 5 6 7 8 9 "
     ]
    }
   ],
   "source": [
    "i = 0\n",
    "while i<10:\n",
    "    print(i, end= \" \")\n",
    "    i = i + 1"
   ]
  },
  {
   "cell_type": "code",
   "execution_count": null,
   "id": "22a5125d",
   "metadata": {},
   "outputs": [],
   "source": []
  }
 ],
 "metadata": {
  "kernelspec": {
   "display_name": "Python 3 (ipykernel)",
   "language": "python",
   "name": "python3"
  },
  "language_info": {
   "codemirror_mode": {
    "name": "ipython",
    "version": 3
   },
   "file_extension": ".py",
   "mimetype": "text/x-python",
   "name": "python",
   "nbconvert_exporter": "python",
   "pygments_lexer": "ipython3",
   "version": "3.9.13"
  }
 },
 "nbformat": 4,
 "nbformat_minor": 5
}
