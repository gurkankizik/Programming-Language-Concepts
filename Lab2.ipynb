{
 "cells": [
  {
   "cell_type": "code",
   "execution_count": 1,
   "id": "d8bce74b",
   "metadata": {},
   "outputs": [
    {
     "name": "stdout",
     "output_type": "stream",
     "text": [
      "How many containers 1 litre or less do you have?3\n",
      "How many containers more than 1 litre do you have?2\n",
      "Your total refund will be $0.80\n"
     ]
    }
   ],
   "source": [
    "LESS_DEPOSIT = 0.10\n",
    "MORE_DEPOSIT = 0.25\n",
    "\n",
    "less = int(input(\"How many containers 1 litre or less do you have? \"))\n",
    "more = int(input(\"How many containers more than 1 litre do you have? \"))\n",
    "\n",
    "#Let's compute the refund amount\n",
    "refund = less * LESS_DEPOSIT + more * MORE_DEPOSIT\n",
    "print(\"Your total refund will be $%.2f\"%refund)"
   ]
  },
  {
   "cell_type": "code",
   "execution_count": 3,
   "id": "6b3f3fce",
   "metadata": {},
   "outputs": [
    {
     "name": "stdout",
     "output_type": "stream",
     "text": [
      "Enter the number of cents= 1352\n",
      "  6 toonies\n",
      "  1 loonies\n",
      "  2 quarter\n",
      "  0 dime\n",
      "  0 nickel\n",
      "  2 pennies\n"
     ]
    }
   ],
   "source": [
    "CENTS_PER_TOONIE = 200\n",
    "CENTS_PER_LOONIE = 100\n",
    "CENTS_PER_QUARTER = 25\n",
    "CENTS_PER_DIME = 10\n",
    "CENTS_PER_NICKEL = 5\n",
    "\n",
    "\n",
    "cents = int(input(\"Enter the number of cents= \"))\n",
    "print(\" \", cents // CENTS_PER_TOONIE, \"toonies\")\n",
    "cents = cents % CENTS_PER_TOONIE\n",
    "\n",
    "print(\" \", cents // CENTS_PER_LOONIE, \"loonies\")\n",
    "cents = cents % CENTS_PER_LOONIE\n",
    "\n",
    "print(\" \", cents // CENTS_PER_QUARTER, \"quarter\")\n",
    "cents = cents % CENTS_PER_QUARTER\n",
    "\n",
    "print(\" \", cents // CENTS_PER_DIME, \"dime\")\n",
    "cents = cents % CENTS_PER_DIME\n",
    "\n",
    "print(\" \", cents // CENTS_PER_NICKEL, \"nickel\")\n",
    "cents = cents % CENTS_PER_NICKEL\n",
    "\n",
    "#Display the number of pennies\n",
    "print(\" \", cents, \"pennies\")"
   ]
  },
  {
   "cell_type": "code",
   "execution_count": 9,
   "id": "5420c5fe",
   "metadata": {},
   "outputs": [
    {
     "name": "stdout",
     "output_type": "stream",
     "text": [
      "Enter the month: february\n",
      "february has 31 days in it.\n"
     ]
    }
   ],
   "source": [
    "month = input(\"Enter the month: \")\n",
    "days = 31\n",
    "\n",
    "if month == \"April\" or month == \"June\" or month == \"September\" or \\\n",
    "month == \"November\":\n",
    "    days = 30\n",
    "elif month == \"February\":\n",
    "    days = \"28 or 29\" \n",
    "\n",
    "print(month, \"has\", days, \"days in it.\")"
   ]
  },
  {
   "cell_type": "code",
   "execution_count": 16,
   "id": "12a782c3",
   "metadata": {},
   "outputs": [
    {
     "name": "stdout",
     "output_type": "stream",
     "text": [
      "Enter side 1:1.0\n",
      "Enter side 2:1.0\n",
      "Enter side 3:1.0\n",
      "Triangle is equilateral triangle\n"
     ]
    }
   ],
   "source": [
    "side1 = float(input(\"Enter side 1:\"))\n",
    "side2 = float(input(\"Enter side 2:\"))\n",
    "side3 = float(input(\"Enter side 3:\"))\n",
    "\n",
    "if side1 == side2 and side1 == side3 and side2 == side3:\n",
    "    print(\"Triangle is equilateral triangle\")\n",
    "elif side1 == side2 or side2 == side3 or side1 == side3:\n",
    "    print(\"Triangle is isoceles triangle\")\n",
    "else:\n",
    "    print(\"Triangle is scalene triangle\")"
   ]
  },
  {
   "cell_type": "code",
   "execution_count": 22,
   "id": "db0a2a30",
   "metadata": {},
   "outputs": [
    {
     "name": "stdout",
     "output_type": "stream",
     "text": [
      "Enter the rating (0-0.4-0.6) = 0.6\n",
      "Based on that rating, the performance is MERITORIOUS\n",
      "Your will recieve a raise of $1440.00\n"
     ]
    }
   ],
   "source": [
    "RAISE_FACTOR = 2400\n",
    "UNACCEPTABLE = 0\n",
    "ACCEPTABLE = 0.4\n",
    "MERITORIOUS = 0.6\n",
    "\n",
    "rating = float(input(\"Enter the rating (0-0.4-0.6) = \"))\n",
    "\n",
    "if rating == UNACCEPTABLE:\n",
    "    performance = \"UNACCEPTABLE\"\n",
    "elif rating == ACCEPTABLE:\n",
    "    peformance = \"ACCEPTABLE\"\n",
    "elif rating == MERITORIOUS:\n",
    "    performance = \"MERITORIOUS\"\n",
    "else:\n",
    "    performance = \"\"\n",
    "    \n",
    "if peformance == \"\":\n",
    "    print(\"That is not a valid rating.\")\n",
    "else:\n",
    "    print(\"Based on that rating, the performance is %s\"%performance)\n",
    "    print(\"Your will recieve a raise of $%.2f\"%(rating * RAISE_FACTOR))"
   ]
  },
  {
   "cell_type": "code",
   "execution_count": 26,
   "id": "a08fa8f6",
   "metadata": {},
   "outputs": [
    {
     "name": "stdout",
     "output_type": "stream",
     "text": [
      "Enter year: 2002\n",
      "2002  is not a leap year\n"
     ]
    }
   ],
   "source": [
    "year = int(input(\"Enter the year: \"))\n",
    "\n",
    "if (year % 400 == 0) and (year % 100 == 0):\n",
    "    print(year, \" is a leap year\")\n",
    "elif (year % 4 == 0) and (year % 100 != 0):\n",
    "    print(year, \" is a leap year\")\n",
    "else:\n",
    "    print(year, \" is not a leap year\")"
   ]
  },
  {
   "cell_type": "code",
   "execution_count": 35,
   "id": "a4b18e6b",
   "metadata": {},
   "outputs": [
    {
     "name": "stdout",
     "output_type": "stream",
     "text": [
      "       1   2   3   4   5   6   7   8   9  10\n",
      "   1   1   2   3   4   5   6   7   8   9  10\n",
      "   2   2   4   6   8  10  12  14  16  18  20\n",
      "   3   3   6   9  12  15  18  21  24  27  30\n",
      "   4   4   8  12  16  20  24  28  32  36  40\n",
      "   5   5  10  15  20  25  30  35  40  45  50\n",
      "   6   6  12  18  24  30  36  42  48  54  60\n",
      "   7   7  14  21  28  35  42  49  56  63  70\n",
      "   8   8  16  24  32  40  48  56  64  72  80\n",
      "   9   9  18  27  36  45  54  63  72  81  90\n",
      "  10  10  20  30  40  50  60  70  80  90 100\n"
     ]
    }
   ],
   "source": [
    "MIN = 1\n",
    "MAX = 10\n",
    "print(\"    \", end=\"\")\n",
    "for i in range(MIN, MAX+1):\n",
    "    print(\"%4d\"%i, end=\"\")\n",
    "print() \n",
    "\n",
    "for i in range(MIN, MAX+1):\n",
    "    print(\"%4d\"%i, end=\"\")\n",
    "    for j in range(MIN, MAX+1):\n",
    "        print(\"%4d\"%(i*j), end=\"\")\n",
    "    print()\n",
    "        "
   ]
  },
  {
   "cell_type": "code",
   "execution_count": null,
   "id": "840968d7",
   "metadata": {},
   "outputs": [],
   "source": []
  }
 ],
 "metadata": {
  "kernelspec": {
   "display_name": "Python 3 (ipykernel)",
   "language": "python",
   "name": "python3"
  },
  "language_info": {
   "codemirror_mode": {
    "name": "ipython",
    "version": 3
   },
   "file_extension": ".py",
   "mimetype": "text/x-python",
   "name": "python",
   "nbconvert_exporter": "python",
   "pygments_lexer": "ipython3",
   "version": "3.9.13"
  }
 },
 "nbformat": 4,
 "nbformat_minor": 5
}
